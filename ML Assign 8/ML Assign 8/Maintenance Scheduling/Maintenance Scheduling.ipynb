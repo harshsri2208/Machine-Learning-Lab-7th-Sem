{
 "cells": [
  {
   "cell_type": "markdown",
   "metadata": {},
   "source": [
    "# submitted by Harsh Srivastava\n",
    "# Roll - 117cs0755"
   ]
  },
  {
   "cell_type": "markdown",
   "metadata": {},
   "source": [
    "## importing libraries"
   ]
  },
  {
   "cell_type": "code",
   "execution_count": 1,
   "metadata": {},
   "outputs": [
    {
     "name": "stdout",
     "output_type": "stream",
     "text": [
      "Populating the interactive namespace from numpy and matplotlib\n"
     ]
    }
   ],
   "source": [
    "import numpy as np\n",
    "%pylab inline\n",
    "import matplotlib.pyplot as plt"
   ]
  },
  {
   "cell_type": "markdown",
   "metadata": {},
   "source": [
    "## define initial problem constants"
   ]
  },
  {
   "cell_type": "code",
   "execution_count": 2,
   "metadata": {},
   "outputs": [],
   "source": [
    "num_units = 7\n",
    "num_intervals = 4\n",
    "population = 100\n",
    "generations = 100\n",
    "unit_capacity = [20, 25, 35, 40, 15, 15, 10]\n",
    "num_int_unit = [2, 2, 1, 1, 1, 1, 1]\n",
    "total_installed_capacity = 150\n",
    "max_load_interval = [80, 90, 65, 70]\n",
    "pc = 0.7\n",
    "pm = 0.00001\n",
    "cons = -60"
   ]
  },
  {
   "cell_type": "markdown",
   "metadata": {},
   "source": [
    "## creating gene pool for each chromosome"
   ]
  },
  {
   "cell_type": "code",
   "execution_count": 3,
   "metadata": {},
   "outputs": [
    {
     "name": "stdout",
     "output_type": "stream",
     "text": [
      "[[[1, 1, 0, 0], [0, 1, 1, 0], [0, 0, 1, 1]], [[1, 1, 0, 0], [0, 1, 1, 0], [0, 0, 1, 1]], [[1, 0, 0, 0], [0, 1, 0, 0], [0, 0, 1, 0], [0, 0, 0, 1]], [[1, 0, 0, 0], [0, 1, 0, 0], [0, 0, 1, 0], [0, 0, 0, 1]], [[1, 0, 0, 0], [0, 1, 0, 0], [0, 0, 1, 0], [0, 0, 0, 1]], [[1, 0, 0, 0], [0, 1, 0, 0], [0, 0, 1, 0], [0, 0, 0, 1]], [[1, 0, 0, 0], [0, 1, 0, 0], [0, 0, 1, 0], [0, 0, 0, 1]]]\n"
     ]
    }
   ],
   "source": [
    "gene_pool = [[[1, 1, 0, 0], [0, 1, 1, 0], [0, 0, 1, 1]], \n",
    "            [[1, 1, 0, 0], [0, 1, 1, 0], [0, 0, 1, 1]], \n",
    "            [[1, 0, 0, 0], [0, 1, 0, 0], [0, 0, 1, 0], [0, 0, 0, 1]],\n",
    "            [[1, 0, 0, 0], [0, 1, 0, 0], [0, 0, 1, 0], [0, 0, 0, 1]],\n",
    "            [[1, 0, 0, 0], [0, 1, 0, 0], [0, 0, 1, 0], [0, 0, 0, 1]],\n",
    "            [[1, 0, 0, 0], [0, 1, 0, 0], [0, 0, 1, 0], [0, 0, 0, 1]],\n",
    "            [[1, 0, 0, 0], [0, 1, 0, 0], [0, 0, 1, 0], [0, 0, 0, 1]]]\n",
    "print(gene_pool)"
   ]
  },
  {
   "cell_type": "markdown",
   "metadata": {},
   "source": [
    "## defining a fitness function"
   ]
  },
  {
   "cell_type": "code",
   "execution_count": 4,
   "metadata": {},
   "outputs": [],
   "source": [
    "def fitness(chromosome) :\n",
    "    chrom = np.array(chromosome)\n",
    "    #print(chrom)\n",
    "    u_cap = unit_capacity\n",
    "    u_cap = np.array(u_cap)\n",
    "    #print(u_cap)\n",
    "    fit_unit = np.dot(chrom.T, u_cap)\n",
    "    #print(fit_unit)\n",
    "    res_pow = total_installed_capacity - fit_unit - np.array(max_load_interval)\n",
    "    #print(res_pow)\n",
    "    #print(\"\\n\")\n",
    "    res = max(res_pow)\n",
    "    return res"
   ]
  },
  {
   "cell_type": "markdown",
   "metadata": {},
   "source": [
    "## testing fitness function for a random chromosome"
   ]
  },
  {
   "cell_type": "code",
   "execution_count": 5,
   "metadata": {},
   "outputs": [
    {
     "name": "stdout",
     "output_type": "stream",
     "text": [
      "25\n"
     ]
    }
   ],
   "source": [
    "print(fitness([[0, 1, 1, 0], [0, 0, 1, 1], [0, 0, 0, 1], [1, 0, 0, 0], [0, 1, 0, 0], [0, 0, 1, 0], [1, 0, 0, 0]]))"
   ]
  },
  {
   "cell_type": "markdown",
   "metadata": {},
   "source": [
    "## function for cross over"
   ]
  },
  {
   "cell_type": "code",
   "execution_count": 6,
   "metadata": {},
   "outputs": [],
   "source": [
    "def cross_over(parent1, parent2) :\n",
    "    \n",
    "    # selecting a random point for exchange of genes\n",
    "    partition = 2#np.random.randint(0, num_units - 1)\n",
    "    for i in range(partition + 1, num_units) :\n",
    "        # exchanging genes\n",
    "        temp = parent1[i]\n",
    "        parent1[i] = parent2[i]\n",
    "        parent2[i] = temp\n",
    "    return parent1, parent2"
   ]
  },
  {
   "cell_type": "markdown",
   "metadata": {},
   "source": [
    "## testing cross over for random parents"
   ]
  },
  {
   "cell_type": "code",
   "execution_count": 7,
   "metadata": {},
   "outputs": [
    {
     "data": {
      "text/plain": [
       "([[0, 1, 1, 0],\n",
       "  [0, 0, 1, 1],\n",
       "  [0, 0, 0, 1],\n",
       "  [1, 0, 0, 0],\n",
       "  [1, 0, 0, 0],\n",
       "  [0, 0, 0, 1],\n",
       "  [1, 0, 0, 0]],\n",
       " [[0, 1, 1, 0],\n",
       "  [0, 1, 1, 0],\n",
       "  [0, 1, 0, 0],\n",
       "  [1, 0, 0, 0],\n",
       "  [0, 1, 0, 0],\n",
       "  [0, 0, 1, 0],\n",
       "  [1, 0, 0, 0]])"
      ]
     },
     "execution_count": 7,
     "metadata": {},
     "output_type": "execute_result"
    }
   ],
   "source": [
    "cross_over([[0, 1, 1, 0], [0, 0, 1, 1], [0, 0, 0, 1], [1, 0, 0, 0], [0, 1, 0, 0], [0, 0, 1, 0], [1, 0, 0, 0]],\n",
    "           [[0, 1, 1, 0], [0, 1, 1, 0], [0, 1, 0, 0], [1, 0, 0, 0], [1, 0, 0, 0], [0, 0, 0, 1], [1, 0, 0, 0]])"
   ]
  },
  {
   "cell_type": "markdown",
   "metadata": {},
   "source": [
    "## function for mutation"
   ]
  },
  {
   "cell_type": "code",
   "execution_count": 8,
   "metadata": {},
   "outputs": [],
   "source": [
    "def mutation(chromosome) :\n",
    "    # selecting a random gene from the chromosome\n",
    "    rand_gene = np.random.randint(0, num_units)\n",
    "    # replacing the gene with a random gene from the gene pool\n",
    "    chromosome[rand_gene] = gene_pool[rand_gene][np.random.randint(0, num_intervals - num_int_unit[rand_gene] + 1)]\n",
    "    return chromosome"
   ]
  },
  {
   "cell_type": "markdown",
   "metadata": {},
   "source": [
    "## testing mutation for a random chromosome"
   ]
  },
  {
   "cell_type": "code",
   "execution_count": 9,
   "metadata": {},
   "outputs": [
    {
     "data": {
      "text/plain": [
       "[[0, 1, 1, 0],\n",
       " [0, 0, 1, 1],\n",
       " [0, 0, 0, 1],\n",
       " [1, 0, 0, 0],\n",
       " [0, 1, 0, 0],\n",
       " [0, 0, 1, 0],\n",
       " [1, 0, 0, 0]]"
      ]
     },
     "execution_count": 9,
     "metadata": {},
     "output_type": "execute_result"
    }
   ],
   "source": [
    "mutation([[0, 1, 1, 0], [0, 0, 1, 1], [0, 0, 0, 1], [1, 0, 0, 0], [0, 1, 0, 0], [0, 0, 1, 0], [1, 0, 0, 0]])"
   ]
  },
  {
   "cell_type": "markdown",
   "metadata": {},
   "source": [
    "## generating an initial population"
   ]
  },
  {
   "cell_type": "code",
   "execution_count": 10,
   "metadata": {},
   "outputs": [
    {
     "name": "stdout",
     "output_type": "stream",
     "text": [
      "(100, 7, 4)\n"
     ]
    }
   ],
   "source": [
    "chrom_pop_init = []\n",
    "for i in range(population) :\n",
    "    chrom = []\n",
    "    for j in range(num_units) :\n",
    "        x = np.random.randint(0, num_intervals - num_int_unit[j] + 1)\n",
    "        #print(x)\n",
    "        chrom.append(gene_pool[j][x])\n",
    "    chrom_pop_init.append(chrom)\n",
    "    \n",
    "#print(chrom_pop_init)\n",
    "print(np.array(chrom_pop_init).shape)"
   ]
  },
  {
   "cell_type": "markdown",
   "metadata": {},
   "source": [
    "## function for selecting random chromosomes based on fitness"
   ]
  },
  {
   "cell_type": "code",
   "execution_count": 11,
   "metadata": {},
   "outputs": [],
   "source": [
    "def random_chromosome(fitnesses, chrom_pop) :\n",
    "    f = fitnesses\n",
    "#     for k in range(len(f)) :\n",
    "#         if f[k] < 0 :\n",
    "#             f[k] = f[k] * 999 * -1\n",
    "    c = [x for _,x in sorted(zip(f,chrom_pop))]\n",
    "    f.sort()\n",
    "    i1 = np.random.randint(len(f) // 2, len(f))\n",
    "    i2 = np.random.randint(len(f) // 2, len(f))\n",
    "    return c[i1], c[i2]"
   ]
  },
  {
   "cell_type": "markdown",
   "metadata": {},
   "source": [
    "## implementation of genetic algo"
   ]
  },
  {
   "cell_type": "code",
   "execution_count": 12,
   "metadata": {},
   "outputs": [],
   "source": [
    "gen_val = []\n",
    "min_fit = [cons] * generations\n",
    "\n",
    "chrom_pop = chrom_pop_init\n",
    "for i in range(generations) :\n",
    "    fitnesses = []\n",
    "    for j in range(population) :\n",
    "        fitnesses.append(fitness(chrom_pop[j]))\n",
    "#     min_fit.append(min(fitnesses))\n",
    "    min_fit[i] += min(fitnesses)\n",
    "    gen_val.append(i + 1)\n",
    "    \n",
    "    new_pop = []\n",
    "    for j in range(population) :\n",
    "        parent1, parent2 = random_chromosome(fitnesses, chrom_pop)\n",
    "        parent1, parent2 = cross_over(parent1, parent2)\n",
    "        if random.random() < pm :\n",
    "            parent1 = mutation(parent1)\n",
    "        if random.random() < pm :\n",
    "            parent2 = mutation(parent2)\n",
    "        new_pop.append(parent1)\n",
    "        new_pop.append(parent2)\n",
    "        if len(new_pop) == population :\n",
    "            break\n",
    "    chrom_pop = new_pop"
   ]
  },
  {
   "cell_type": "markdown",
   "metadata": {},
   "source": [
    "## plotting fitness vs generation"
   ]
  },
  {
   "cell_type": "code",
   "execution_count": 13,
   "metadata": {},
   "outputs": [
    {
     "name": "stdout",
     "output_type": "stream",
     "text": [
      "Plotting fitness vs generation\n"
     ]
    },
    {
     "data": {
      "image/png": "[encoded data removed]",
      "text/plain": [
       "<Figure size 432x288 with 1 Axes>"
      ]
     },
     "metadata": {
      "needs_background": "light"
     },
     "output_type": "display_data"
    }
   ],
   "source": [
    "print(\"Plotting fitness vs generation\")    \n",
    "plt.plot(gen_val, min_fit)\n",
    "plt.xlabel('Generations')\n",
    "plt.ylabel('Fitness')\n",
    "\n",
    "plt.show()"
   ]
  },
  {
   "cell_type": "markdown",
   "metadata": {},
   "source": [
    "## we can see that the fitness is reaching desired values with increasing generations"
   ]
  },
  {
   "cell_type": "code",
   "execution_count": null,
   "metadata": {},
   "outputs": [],
   "source": []
  }
 ],
 "metadata": {
  "kernelspec": {
   "display_name": "Python 3",
   "language": "python",
   "name": "python3"
  },
  "language_info": {
   "codemirror_mode": {
    "name": "ipython",
    "version": 3
   },
   "file_extension": ".py",
   "mimetype": "text/x-python",
   "name": "python",
   "nbconvert_exporter": "python",
   "pygments_lexer": "ipython3",
   "version": "3.7.6"
  }
 },
 "nbformat": 4,
 "nbformat_minor": 4
}
