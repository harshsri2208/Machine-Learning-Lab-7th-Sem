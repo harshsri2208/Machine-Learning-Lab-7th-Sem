{
 "cells": [
  {
   "cell_type": "markdown",
   "metadata": {},
   "source": [
    "# Submitted by Harsh Srivastava\n",
    "# Roll - 117CS0755"
   ]
  },
  {
   "cell_type": "markdown",
   "metadata": {},
   "source": [
    "## importing libraries"
   ]
  },
  {
   "cell_type": "code",
   "execution_count": 1,
   "metadata": {},
   "outputs": [],
   "source": [
    "import random"
   ]
  },
  {
   "cell_type": "markdown",
   "metadata": {},
   "source": [
    "## fitness function\n",
    "## depends upon the number of collision in the horizontal and diagonal directions\n",
    "## maximum fitness in case of no collissions\n",
    "## maximum fitness = (n * (n - 1)) / 2 ,where n --> number of queens"
   ]
  },
  {
   "cell_type": "code",
   "execution_count": 2,
   "metadata": {},
   "outputs": [],
   "source": [
    "def fitness(c):\n",
    "    h_cols = sum([c.count(queen)-1 for queen in c])/2\n",
    "    d_cols = 0\n",
    "\n",
    "    n = len(c)\n",
    "    left_diagonal = [0] * 2*n\n",
    "    right_diagonal = [0] * 2*n\n",
    "    for i in range(n):\n",
    "        left_diagonal[i + c[i] - 1] += 1\n",
    "        right_diagonal[len(c) - i + c[i] - 2] += 1\n",
    "\n",
    "    d_cols = 0\n",
    "    for i in range(2*n-1):\n",
    "        counter = 0\n",
    "        if left_diagonal[i] > 1:\n",
    "            counter += left_diagonal[i]-1\n",
    "        if right_diagonal[i] > 1:\n",
    "            counter += right_diagonal[i]-1\n",
    "        d_cols += counter / (n-abs(i-n+1))\n",
    "    \n",
    "    return int(maxFitness - (h_cols + d_cols)) "
   ]
  },
  {
   "cell_type": "markdown",
   "metadata": {},
   "source": [
    "## function for creating random chromosomes with binary values"
   ]
  },
  {
   "cell_type": "code",
   "execution_count": 3,
   "metadata": {},
   "outputs": [],
   "source": [
    "def random_chromosome(size): #making random chromosomes \n",
    "    return [ random.randint(1, size) for _ in range(size) ]"
   ]
  },
  {
   "cell_type": "markdown",
   "metadata": {},
   "source": [
    "## function for probability calculation\n",
    "## found by dividing fitness by the maximum fitness\n",
    "## so that all values are between 0 and 1"
   ]
  },
  {
   "cell_type": "code",
   "execution_count": 4,
   "metadata": {},
   "outputs": [],
   "source": [
    "def probability(c, fitness):\n",
    "    return fitness(c) / maxFitness"
   ]
  },
  {
   "cell_type": "markdown",
   "metadata": {},
   "source": [
    "## picking chromosomes for cross over"
   ]
  },
  {
   "cell_type": "code",
   "execution_count": 5,
   "metadata": {},
   "outputs": [],
   "source": [
    "def random_pick(population, probabilities):\n",
    "    popProbabilty = zip(population, probabilities)\n",
    "    total = sum(w for c, w in popProbabilty)\n",
    "    r = random.uniform(0, total)\n",
    "    upto = 0\n",
    "    for c, w in zip(population, probabilities):\n",
    "        if upto + w >= r:\n",
    "            return c\n",
    "        upto += w\n",
    "    assert False"
   ]
  },
  {
   "cell_type": "markdown",
   "metadata": {},
   "source": [
    "## doing cross_over between two chromosomes"
   ]
  },
  {
   "cell_type": "code",
   "execution_count": 6,
   "metadata": {},
   "outputs": [],
   "source": [
    "def reproduce(x, y): \n",
    "    c = random.randint(0, len(x) - 1)\n",
    "    return x[0:c] + y[c:len(x)]"
   ]
  },
  {
   "cell_type": "markdown",
   "metadata": {},
   "source": [
    "## function for mutation\n",
    "## in this case we randomly chnage the bit value in the chromosome\n",
    "## has a very low probability"
   ]
  },
  {
   "cell_type": "code",
   "execution_count": 7,
   "metadata": {},
   "outputs": [],
   "source": [
    "def mutate(x):\n",
    "    c = random.randint(0, len(x) - 1)\n",
    "    m = random.randint(1, len(x))\n",
    "    x[c] = m\n",
    "    return x"
   ]
  },
  {
   "cell_type": "markdown",
   "metadata": {},
   "source": [
    "## GA algo implementation"
   ]
  },
  {
   "cell_type": "code",
   "execution_count": 8,
   "metadata": {},
   "outputs": [],
   "source": [
    "def queen_da(population, fitness, maxFitness):\n",
    "    pm = 0.03\n",
    "    new_population = []\n",
    "    max_fit_current = -1\n",
    "    max_fit_chrom = None\n",
    "    probabilities = [probability(n, fitness) for n in population]\n",
    "    for i in range(len(population)):\n",
    "        x = random_pick(population, probabilities) \n",
    "        y = random_pick(population, probabilities) \n",
    "        child = reproduce(x, y) \n",
    "        if random.random() < pm:\n",
    "            child = mutate(child)\n",
    "        fit_child = fitness(child)\n",
    "        if fit_child > max_fit_current:\n",
    "            max_fit_chrom = child\n",
    "            max_fit_current = fit_child\n",
    "        new_population.append(child)\n",
    "        if fitness(child) == maxFitness: break\n",
    "    print_chromosome(max_fit_chrom)\n",
    "    return new_population"
   ]
  },
  {
   "cell_type": "markdown",
   "metadata": {},
   "source": [
    "## printing a chromosome value"
   ]
  },
  {
   "cell_type": "code",
   "execution_count": 9,
   "metadata": {},
   "outputs": [],
   "source": [
    "def print_chromosome(chrom):\n",
    "    print(\"Chromosome = {},  Fitness = {}\"\n",
    "        .format(str(chrom), fitness(chrom)))"
   ]
  },
  {
   "cell_type": "markdown",
   "metadata": {},
   "source": [
    "## taking number of queens"
   ]
  },
  {
   "cell_type": "code",
   "execution_count": 10,
   "metadata": {},
   "outputs": [],
   "source": [
    "num_queens = 4"
   ]
  },
  {
   "cell_type": "markdown",
   "metadata": {},
   "source": [
    "## code block for number of queens input and simulation"
   ]
  },
  {
   "cell_type": "code",
   "execution_count": 11,
   "metadata": {},
   "outputs": [
    {
     "name": "stdout",
     "output_type": "stream",
     "text": [
      "For Generation 1\n",
      "Chromosome = [2, 4, 1, 3],  Fitness = 6\n",
      "\n",
      "Maximum Fitness = 6\n",
      "Generations needed = 1\n",
      "\n",
      "Possible Solution: \n",
      "Chromosome = [2, 4, 1, 3],  Fitness = 6\n"
     ]
    }
   ],
   "source": [
    "maxFitness = (num_queens*(num_queens-1))/2 \n",
    "population = [random_chromosome(num_queens) for _ in range(100)]\n",
    "\n",
    "generation = 1\n",
    "\n",
    "while not maxFitness in [fitness(chrom) for chrom in population]:\n",
    "    print(\"For Generation {}\".format(generation))\n",
    "    population = queen_da(population, fitness, maxFitness)\n",
    "    print()\n",
    "    print(\"Maximum Fitness = {}\".format(max([fitness(n) for n in population])))\n",
    "    generation += 1\n",
    "chrom_out = []\n",
    "print(\"Generations needed = {}\".format(generation-1))\n",
    "for chrom in population:\n",
    "    if fitness(chrom) == maxFitness:\n",
    "        print()\n",
    "        print(\"Possible Solution: \")\n",
    "        chrom_out = chrom\n",
    "        print_chromosome(chrom)"
   ]
  },
  {
   "cell_type": "code",
   "execution_count": null,
   "metadata": {},
   "outputs": [],
   "source": []
  }
 ],
 "metadata": {
  "kernelspec": {
   "display_name": "Python 3",
   "language": "python",
   "name": "python3"
  },
  "language_info": {
   "codemirror_mode": {
    "name": "ipython",
    "version": 3
   },
   "file_extension": ".py",
   "mimetype": "text/x-python",
   "name": "python",
   "nbconvert_exporter": "python",
   "pygments_lexer": "ipython3",
   "version": "3.7.6"
  }
 },
 "nbformat": 4,
 "nbformat_minor": 4
}
